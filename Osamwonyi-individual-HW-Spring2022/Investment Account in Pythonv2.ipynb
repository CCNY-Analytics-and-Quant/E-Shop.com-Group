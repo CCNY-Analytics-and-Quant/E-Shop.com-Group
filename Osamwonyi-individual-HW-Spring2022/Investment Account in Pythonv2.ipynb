{
 "cells": [
  {
   "cell_type": "code",
   "execution_count": 23,
   "id": "a4be4b8f-af83-4b9a-9d9e-fabf3bb845af",
   "metadata": {},
   "outputs": [
    {
     "name": "stdout",
     "output_type": "stream",
     "text": [
      "Value: $1720.65, Age: 16 \n",
      "Value: $1973.76, Age: 17 \n",
      "Value: $2264.1, Age: 18 \n",
      "Value: $2597.15, Age: 19 \n",
      "Value: $2979.19, Age: 20 \n",
      "Value: $3417.42, Age: 21 \n",
      "Value: $3920.13, Age: 22 \n",
      "Value: $4496.78, Age: 23 \n",
      "Value: $5158.25, Age: 24 \n",
      "Value: $5917.03, Age: 25 \n",
      "Value: $6787.43, Age: 26 \n",
      "Value: $7785.86, Age: 27 \n",
      "Value: $8931.16, Age: 28 \n",
      "Value: $10244.93, Age: 29 \n",
      "\n",
      "It will take you 14 years, in order to have at least $10000 in your retirement account.\n",
      "This is with a 14.71% interest rate compounding annually.\n",
      "By this time you will have $10244.93 and will be 29 years old.\n"
     ]
    }
   ],
   "source": [
    "#for the SECOND hw you do this:\n",
    "\n",
    "Amt=1500\n",
    "interest=14.71/100\n",
    "currentAge=15\n",
    "finAge=0\n",
    "retireAmt=10000\n",
    "\n",
    "while Amt <= retireAmt:\n",
    "    Amt += (Amt*(interest))\n",
    "    finAge += 1\n",
    "    print(\"Value: ${}, Age: {} \".format(round(Amt,2),finAge+currentAge))\n",
    "    \n",
    "print(\"\\nIt will take you {} years, in order to have at least ${} in your retirement account.\\nThis is with a {}% interest rate compounding annually.\\nBy this time you will have ${} and will be {} years old.\".format(finAge,round(retireAmt,2), round(interest*100,2), round(Amt,2), finAge+currentAge))\n",
    "\n"
   ]
  },
  {
   "cell_type": "code",
   "execution_count": null,
   "id": "92f59b57-edc8-4572-8d3e-3bf64aa5aaee",
   "metadata": {},
   "outputs": [],
   "source": []
  }
 ],
 "metadata": {
  "kernelspec": {
   "display_name": "Python 3 (ipykernel)",
   "language": "python",
   "name": "python3"
  },
  "language_info": {
   "codemirror_mode": {
    "name": "ipython",
    "version": 3
   },
   "file_extension": ".py",
   "mimetype": "text/x-python",
   "name": "python",
   "nbconvert_exporter": "python",
   "pygments_lexer": "ipython3",
   "version": "3.9.7"
  }
 },
 "nbformat": 4,
 "nbformat_minor": 5
}
