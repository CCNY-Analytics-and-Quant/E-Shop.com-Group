{
 "cells": [
  {
   "cell_type": "code",
   "execution_count": 99,
   "id": "afd2db34-c5b2-4ee7-a943-f7d8f0fd44d5",
   "metadata": {},
   "outputs": [
    {
     "name": "stdout",
     "output_type": "stream",
     "text": [
      "Value: $1720.65, Year: 1 \n",
      "Value: $1973.76, Year: 2 \n",
      "Value: $2264.1, Year: 3 \n",
      "Value: $2597.15, Year: 4 \n",
      "Value: $2979.19, Year: 5 \n",
      "Value: $3417.42, Year: 6 \n",
      "Value: $3920.13, Year: 7 \n",
      "Value: $4496.78, Year: 8 \n",
      "Value: $5158.25, Year: 9 \n",
      "Value: $5917.03, Year: 10 \n",
      "\n",
      "After 10 years, You will have $5917.03 in your retirement account.\n"
     ]
    }
   ],
   "source": [
    "#for the FIRST ONE you do this\n",
    "Amt=1500\n",
    "interest=14.71/100\n",
    "initYear=0\n",
    "finYear=10\n",
    "for year in range(finYear) :\n",
    "    Amt += (Amt*(interest))\n",
    "    print(\"Value: ${}, Year: {} \".format(round(Amt,2),year+1))\n",
    "print(\"\\nAfter {} years, You will have ${} in your retirement account.\".format(year+1, round(Amt,2)))"
   ]
  },
  {
   "cell_type": "code",
   "execution_count": null,
   "id": "63097516-7727-43fc-a90f-43a6cd29f2bf",
   "metadata": {},
   "outputs": [],
   "source": []
  },
  {
   "cell_type": "code",
   "execution_count": null,
   "id": "de392922-818b-4b0c-9f1f-849fcae67e69",
   "metadata": {},
   "outputs": [],
   "source": []
  }
 ],
 "metadata": {
  "kernelspec": {
   "display_name": "Python 3 (ipykernel)",
   "language": "python",
   "name": "python3"
  },
  "language_info": {
   "codemirror_mode": {
    "name": "ipython",
    "version": 3
   },
   "file_extension": ".py",
   "mimetype": "text/x-python",
   "name": "python",
   "nbconvert_exporter": "python",
   "pygments_lexer": "ipython3",
   "version": "3.9.7"
  }
 },
 "nbformat": 4,
 "nbformat_minor": 5
}
